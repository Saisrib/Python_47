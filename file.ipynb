{
 "cells": [
  {
   "cell_type": "code",
   "execution_count": 24,
   "metadata": {},
   "outputs": [
    {
     "name": "stdout",
     "output_type": "stream",
     "text": [
      "[3, 9, 3]\n",
      "[4, 16]\n",
      "6\n",
      "{2, 3, 4, 5, 7, 9}\n"
     ]
    }
   ],
   "source": [
    "a=[2,3,4,5,7,9,3]\n",
    "\n",
    "newlist=[x for x in a if x%3==0]\n",
    "print(newlist)\n",
    "\n",
    "newlist=[x**2 for x in a if x%2==0]\n",
    "print(newlist)\n",
    "\n",
    "newlist=[x for x in a if x%2==0]\n",
    "print(sum(newlist))\n",
    "\n",
    "print(set(a))\n"
   ]
  },
  {
   "cell_type": "code",
   "execution_count": null,
   "metadata": {},
   "outputs": [],
   "source": []
  }
 ],
 "metadata": {
  "kernelspec": {
   "display_name": "Python 3",
   "language": "python",
   "name": "python3"
  },
  "language_info": {
   "codemirror_mode": {
    "name": "ipython",
    "version": 3
   },
   "file_extension": ".py",
   "mimetype": "text/x-python",
   "name": "python",
   "nbconvert_exporter": "python",
   "pygments_lexer": "ipython3",
   "version": "3.11.4"
  },
  "orig_nbformat": 4
 },
 "nbformat": 4,
 "nbformat_minor": 2
}
